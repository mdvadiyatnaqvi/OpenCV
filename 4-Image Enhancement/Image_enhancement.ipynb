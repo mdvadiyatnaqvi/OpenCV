{
 "cells": [
  {
   "cell_type": "markdown",
   "metadata": {},
   "source": [
    "### Basic Image Enhancement Using Mathematical Operations\n",
    "<ul>\n",
    "    <li>Arithematic Operations</li>\n",
    "    <li>Thresholding and Masking</li>\n",
    "    <li>Bitwise Operations Like OR, AND , XOR</li>\n",
    "</ul>"
   ]
  },
  {
   "cell_type": "code",
   "execution_count": null,
   "metadata": {},
   "outputs": [],
   "source": []
  }
 ],
 "metadata": {
  "kernelspec": {
   "display_name": "Python 3",
   "language": "python",
   "name": "python3"
  },
  "language_info": {
   "name": "python",
   "version": "3.10.12"
  }
 },
 "nbformat": 4,
 "nbformat_minor": 2
}
