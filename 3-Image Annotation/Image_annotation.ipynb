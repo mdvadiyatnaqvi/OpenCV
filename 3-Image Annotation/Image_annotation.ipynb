{
 "cells": [
  {
   "cell_type": "markdown",
   "metadata": {},
   "source": [
    "### Image Annotation\n",
    "Here we'll perform following operations\n",
    "<ul>\n",
    "    <li>Draw lines</li>\n",
    "    <li>Draw Circles</li>\n",
    "    <li>Draw Rectangles</li>\n",
    "    <li>Add text</li>\n",
    "</ul>"
   ]
  },
  {
   "cell_type": "code",
   "execution_count": null,
   "metadata": {},
   "outputs": [],
   "source": [
    "# import libraries\n",
    "\n",
    "import cv2\n",
    "import numpy\n",
    "import matplotlib\n",
    "%matplotlib inline\n",
    "matplotlib.rcParams=['figure.figsize'] = (9.0, 9.0)\n",
    "from IPython.display import Image\n",
    "from PIL import Image"
   ]
  }
 ],
 "metadata": {
  "kernelspec": {
   "display_name": "Python 3",
   "language": "python",
   "name": "python3"
  },
  "language_info": {
   "name": "python",
   "version": "3.10.12"
  }
 },
 "nbformat": 4,
 "nbformat_minor": 2
}
